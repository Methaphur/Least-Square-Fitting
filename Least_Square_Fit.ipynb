{
  "nbformat": 4,
  "nbformat_minor": 0,
  "metadata": {
    "colab": {
      "provenance": []
    },
    "kernelspec": {
      "name": "python3",
      "display_name": "Python 3"
    },
    "language_info": {
      "name": "python"
    }
  },
  "cells": [
    {
      "cell_type": "code",
      "execution_count": 1,
      "metadata": {
        "id": "DQX6uZQlyeGm"
      },
      "outputs": [],
      "source": [
        "import numpy as np\n",
        "from tabulate import tabulate \n",
        "from matplotlib import pyplot as plt"
      ]
    },
    {
      "cell_type": "markdown",
      "source": [
        "# Least Square Fitting\n",
        "\n",
        "### Working Procedure\n",
        "To fit the line y = a + bx, we have the following two equations\n",
        "\n",
        "$\\sum y = na + b\\sum x \\quad \\text{(1)}$\n",
        "\n",
        "$\\sum xy = a\\sum x + b\\sum x^2 \\quad \\text{(2)}$\n",
        "\n",
        "Solving these two equations will provide us with the values of `a` and `b`, which represent the intercept and slope of the best fit, respectively"
      ],
      "metadata": {
        "id": "xwwqjUu-y-N4"
      }
    },
    {
      "cell_type": "code",
      "source": [
        "x_data = [3.80,8.26,15.31,19.31,21.39,26.52,36.27,40.79,43.01,62.79]\n",
        "y_data = [0.109,0.231,0.409,0.472,0.566,0.700,0.941,1.315,1.441,2.073]\n",
        "\n",
        "x = np.array(x_data)\n",
        "y = np.array(y_data)\n",
        "n = len(x)\n",
        "\n",
        "if n != len(y):\n",
        "    print(\"Data not complete!!\")\n",
        "\n",
        "x2 = np.square(x)\n",
        "xy = np.array(x*y)\n",
        "\n",
        "sigma_x = np.sum(x)\n",
        "sigma_x2 = np.sum(x2)\n",
        "sigma_y = np.sum(y)\n",
        "sigma_xy = np.sum(xy)\n",
        "\n",
        "# Solving the 2 linear equations as discussed \n",
        "# 1) ∑y = na + b∑x \n",
        "# 2) ∑xy = a∑x + b∑x²\n",
        "\n",
        "# Using basic linear algebra \n",
        "# A . X = B \n",
        "# X = A^-1 . B \n",
        "\n",
        "A = np.array([[sigma_x,n],[sigma_x2,sigma_x]])\n",
        "B = np.array([[sigma_y],[sigma_xy]])\n",
        "X = np.linalg.inv(A).dot(B)\n",
        "\n",
        "slope , intercept = X[0][0] , X[1][0]\n",
        "\n",
        "delta = n*sigma_x2 - (sigma_x)**2\n",
        "sig_y = (np.sum(np.square(y-x*slope-intercept))/(n-2))**0.5\n",
        "# SD in slope and intercept \n",
        "sig_slope = sig_y * (n/delta)**0.5\n",
        "sig_intercept = sig_y * (sigma_x2/delta)**0.5\n",
        "\n",
        "table = np.array([x,y,x2,xy]).transpose()\n",
        "print(tabulate(table,headers= [\"Xi\",\"Yi\",\"Xi*Yi\",\"Xi²\"],tablefmt = \"outline\"))\n",
        "\n",
        "print(f\"\\nThe Equation of the best fit is y = {slope}*x + {intercept}\")\n",
        "\n",
        "print(f'\\n∑(x)  = {sigma_x}\\n∑(y)  = {sigma_y}\\n∑(xy) = {sigma_xy}\\n∑(x²) = {sigma_x2}\\n')\n",
        "print(f'Slope = {slope}\\nIntercept = {intercept}\\n')\n",
        "print(f'Error in Slope = {sig_slope}\\nError in Intercept = {sig_intercept}\\n')\n",
        "print(f'σy = {sig_y}\\n∆ = {delta}')\n",
        "# Data plotting \n",
        "plt.title(\"Least Square Fit\")\n",
        "plt.xlabel(\"x\")\n",
        "plt.ylabel(\"y\")\n",
        "plt.plot(x ,y ,\"o\" , color = \"red\")\n",
        "x = np.linspace(min(x),max(x),len(x))\n",
        "y = slope*x + intercept\n",
        "plt.plot(x,y,linestyle = \"-\",color = \"green\")\n",
        "plt.grid()\n",
        "plt.plot()\n",
        "plt.show()"
      ],
      "metadata": {
        "colab": {
          "base_uri": "https://localhost:8080/",
          "height": 958
        },
        "id": "x3HwyZXRyfsh",
        "outputId": "bc109f2c-ff9b-4443-dd91-9088120ed51b"
      },
      "execution_count": 6,
      "outputs": [
        {
          "output_type": "stream",
          "name": "stdout",
          "text": [
            "   Xi     Yi      Xi*Yi        Xi²\n",
            "-----  -----  ---------  ---------\n",
            " 3.8   0.109    14.44      0.4142\n",
            " 8.26  0.231    68.2276    1.90806\n",
            "15.31  0.409   234.396     6.26179\n",
            "19.31  0.472   372.876     9.11432\n",
            "21.39  0.566   457.532    12.1067\n",
            "26.52  0.7     703.31     18.564\n",
            "36.27  0.941  1315.51     34.1301\n",
            "40.79  1.315  1663.82     53.6388\n",
            "43.01  1.441  1849.86     61.9774\n",
            "62.79  2.073  3942.58    130.164\n",
            "\n",
            "The Equation of the best fit is y = 0.03391397259201393*x + -0.11524316956542634\n",
            "\n",
            "∑(x)  = 277.45\n",
            "∑(y)  = 8.257\n",
            "∑(xy) = 328.27911\n",
            "∑(x²) = 10622.5635\n",
            "\n",
            "Slope = 0.03391397259201393\n",
            "Intercept = -0.11524316956542634\n",
            "\n",
            "Error in Slope = 0.0017601988467113167\n",
            "Error in Intercept = 0.057368883795324725\n",
            "\n",
            "σy = 0.0951926415426897\n",
            "∆ = 29247.13250000002\n"
          ]
        },
        {
          "output_type": "display_data",
          "data": {
            "text/plain": [
              "<Figure size 640x480 with 1 Axes>"
            ],
            "image/png": "[encoded data removed]"
          },
          "metadata": {}
        }
      ]
    },
    {
      "cell_type": "markdown",
      "source": [
        "\n",
        "$\\sigma_y = \\sqrt{\\frac{1}{N-2} \\sum_{i=1}^{N} (y_i - A - Bx_i)^2}$\n",
        "\n",
        "$\\Delta = N \\sum{x^2} - (\\sum{x})^2$ \n",
        "\n",
        "$\\sigma_B = \\sigma_y \\cdot \\sqrt{\\frac{N}{\\Delta}}$\n",
        "\n",
        "$\\sigma_A = \\sigma_y \\cdot \\sqrt{\\frac{\\sum{x^2}}{\\Delta}}$"
      ],
      "metadata": {
        "id": "ELAjhx_Q5Ah2"
      }
    }
  ]
}